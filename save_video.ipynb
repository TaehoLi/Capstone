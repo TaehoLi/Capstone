{
 "cells": [
  {
   "cell_type": "code",
   "execution_count": 1,
   "metadata": {},
   "outputs": [],
   "source": [
    "import cv2 as cv\n",
    "\n",
    "\n",
    "# 카메라에 접근하기 위해 VideoCapture 객체를 생성\n",
    "cap = cv.VideoCapture(0)\n",
    "\n",
    "\n",
    "while(True):\n",
    "\n",
    "    # 이미지를 캡쳐\n",
    "    ret, img_color = cap.read()\n",
    "\n",
    "    # 캡쳐되지 않은 경우 처리\n",
    "    if ret == False:\n",
    "        continue;\n",
    "\n",
    "    # 그레이스케일 이미지로 변환\n",
    "    img_gray = cv.cvtColor(img_color, cv.COLOR_BGR2GRAY)\n",
    "\n",
    "    cv.imshow('bgr', img_color)\n",
    "    # 그레이스케일 이미지를 출력\n",
    "    #cv.imshow('gray', img_gray)\n",
    "\n",
    "    # ESC 키누르면 종료\n",
    "    if cv.waitKey(1) & 0xFF == 27:\n",
    "        break\n",
    "\n",
    "\n",
    "# VideoCapture 객체를 메모리 해제하고 모든 윈도우 창을 종료합니다.\n",
    "cap.release()\n",
    "cv.destroyAllWindows()"
   ]
  },
  {
   "cell_type": "code",
   "execution_count": 2,
   "metadata": {},
   "outputs": [],
   "source": [
    "import cv2 as cv\n",
    "\n",
    "\n",
    "\n",
    "# 카메라에 접근하기 위해 VideoCapture 객체를 생성\n",
    "\n",
    "cap = cv.VideoCapture(0)\n",
    "\n",
    "\n",
    "# 코덱 설정\n",
    "fourcc = cv.VideoWriter_fourcc(*'XVID')\n",
    "# 파일에 저장하기 위해 VideoWriter 객체를 생성\n",
    "out = cv.VideoWriter('./data/output.avi',fourcc, 30.0, (640,480))\n",
    "\n",
    "while(cap.isOpened()):\n",
    "\n",
    "\n",
    "    # 카메라로부터 이미지를 가져옴\n",
    "\n",
    "    ret, frame = cap.read()\n",
    "\n",
    "    # 캡쳐하는데 문제가 있으면 루프 중단\n",
    "    if ret==False:\n",
    "        break;\n",
    "\n",
    "    # 이미지의 좌우를 뒤집음\n",
    "    # 1=좌우, 0=상하\n",
    "    frame = cv.flip(frame,1)\n",
    "\n",
    "    # 이미지를 파일에 저장, VideoWriter 객체에 연속적으로 저장하면 동영상이 됨.\n",
    "    out.write(frame)\n",
    "     \n",
    "\n",
    "    # 화면에 이미지를 출력, 연속적으로 화면에 출력하면 동영상이 됨.    \n",
    "\n",
    "    cv.imshow('frame',frame)\n",
    "\n",
    "    # ESC 키 누르면 루프 중단\n",
    "    if cv.waitKey(1) & 0xFF == 27:\n",
    "        break;\n",
    "\n",
    "\n",
    "# 모든 자원을 해제함\n",
    "cap.release()\n",
    "out.release()\n",
    "cv.destroyAllWindows()"
   ]
  },
  {
   "cell_type": "code",
   "execution_count": 2,
   "metadata": {},
   "outputs": [
    {
     "ename": "error",
     "evalue": "OpenCV(3.4.5) /io/opencv/modules/highgui/src/window.cpp:358: error: (-215:Assertion failed) size.width>0 && size.height>0 in function 'imshow'\n",
     "output_type": "error",
     "traceback": [
      "\u001b[0;31m---------------------------------------------------------------------------\u001b[0m",
      "\u001b[0;31merror\u001b[0m                                     Traceback (most recent call last)",
      "\u001b[0;32m<ipython-input-2-4840b3dba138>\u001b[0m in \u001b[0;36m<module>\u001b[0;34m\u001b[0m\n\u001b[1;32m     10\u001b[0m \u001b[0;34m\u001b[0m\u001b[0m\n\u001b[1;32m     11\u001b[0m     \u001b[0;31m# 화면에 이미지를 출력, 연속적으로 화면에 출력하면 동영상이 됨.\u001b[0m\u001b[0;34m\u001b[0m\u001b[0;34m\u001b[0m\u001b[0;34m\u001b[0m\u001b[0m\n\u001b[0;32m---> 12\u001b[0;31m     \u001b[0mcv\u001b[0m\u001b[0;34m.\u001b[0m\u001b[0mimshow\u001b[0m\u001b[0;34m(\u001b[0m\u001b[0;34m'frame'\u001b[0m\u001b[0;34m,\u001b[0m\u001b[0mframe\u001b[0m\u001b[0;34m)\u001b[0m\u001b[0;34m\u001b[0m\u001b[0;34m\u001b[0m\u001b[0m\n\u001b[0m\u001b[1;32m     13\u001b[0m \u001b[0;34m\u001b[0m\u001b[0m\n\u001b[1;32m     14\u001b[0m     \u001b[0;31m# ESC 키 누르면 루프 중단\u001b[0m\u001b[0;34m\u001b[0m\u001b[0;34m\u001b[0m\u001b[0;34m\u001b[0m\u001b[0m\n",
      "\u001b[0;31merror\u001b[0m: OpenCV(3.4.5) /io/opencv/modules/highgui/src/window.cpp:358: error: (-215:Assertion failed) size.width>0 && size.height>0 in function 'imshow'\n"
     ]
    }
   ],
   "source": [
    "import cv2 as cv\n",
    "\n",
    "# 동영상 파일에 접근하기 위해 VideoCapture 객체를 생성\n",
    "cap = cv.VideoCapture('./data/output.avi')\n",
    "\n",
    "\n",
    "while(cap.isOpened()):\n",
    "    # 동영상 파일로부터 이미지를 가져옴\n",
    "    ret, frame = cap.read()\n",
    "\n",
    "    # 화면에 이미지를 출력, 연속적으로 화면에 출력하면 동영상이 됨.\n",
    "    cv.imshow('frame',frame)\n",
    "\n",
    "    # ESC 키 누르면 루프 중단\n",
    "    if cv.waitKey(30) & 0xFF == 27:\n",
    "        break\n",
    "\n",
    "# 모든 자원을 해제함\n",
    "cap.release()\n",
    "cv.destroyAllWindows()"
   ]
  },
  {
   "cell_type": "code",
   "execution_count": null,
   "metadata": {},
   "outputs": [],
   "source": []
  }
 ],
 "metadata": {
  "kernelspec": {
   "display_name": "Python 3",
   "language": "python",
   "name": "python3"
  },
  "language_info": {
   "codemirror_mode": {
    "name": "ipython",
    "version": 3
   },
   "file_extension": ".py",
   "mimetype": "text/x-python",
   "name": "python",
   "nbconvert_exporter": "python",
   "pygments_lexer": "ipython3",
   "version": "3.6.8"
  }
 },
 "nbformat": 4,
 "nbformat_minor": 2
}
