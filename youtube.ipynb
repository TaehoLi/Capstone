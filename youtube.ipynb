{
 "cells": [
  {
   "cell_type": "code",
   "execution_count": 1,
   "metadata": {},
   "outputs": [
    {
     "name": "stdout",
     "output_type": "stream",
     "text": [
      "title = BTS(방탄소년단)-IDOL Full Dance Cover(댄스커버) 갓동민,황동민(goddongmin)(MV.ver)\n",
      "best.resolution 640x360\n"
     ]
    }
   ],
   "source": [
    "import cv2, pafy\n",
    "import time\n",
    "import numpy as np\n",
    "\n",
    "url = 'https://www.youtube.com/watch?v=fqtxCCv2Yxo'\n",
    "video = pafy.new(url)\n",
    "print('title =', video.title)\n",
    "\n",
    "best = video.getbest(preftype='mp4')     # 'mp4','3gp'\n",
    "print('best.resolution', best.resolution)\n",
    "\n",
    "file = best.download(filepath=\"./data/srcVideo.\" + best.extension)\n",
    "cap = cv2.VideoCapture(file)"
   ]
  },
  {
   "cell_type": "code",
   "execution_count": null,
   "metadata": {},
   "outputs": [],
   "source": []
  }
 ],
 "metadata": {
  "kernelspec": {
   "display_name": "Python 3",
   "language": "python",
   "name": "python3"
  },
  "language_info": {
   "codemirror_mode": {
    "name": "ipython",
    "version": 3
   },
   "file_extension": ".py",
   "mimetype": "text/x-python",
   "name": "python",
   "nbconvert_exporter": "python",
   "pygments_lexer": "ipython3",
   "version": "3.6.8"
  }
 },
 "nbformat": 4,
 "nbformat_minor": 2
}
