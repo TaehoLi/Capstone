{
 "cells": [
  {
   "cell_type": "code",
   "execution_count": 1,
   "metadata": {},
   "outputs": [
    {
     "name": "stdout",
     "output_type": "stream",
     "text": [
      "2019-01-26\n",
      "21:54:40.526999\n",
      "40\n",
      "526999\n",
      "5440526.999\n",
      "54분 40초526999\n",
      "5440\n"
     ]
    }
   ],
   "source": [
    "from datetime import date\n",
    "from datetime import time\n",
    "from datetime import datetime\n",
    "\n",
    "print(date.today())\n",
    "\n",
    "a = datetime.now()\n",
    "print(a.time())\n",
    "print(a.second)\n",
    "print(a.microsecond)\n",
    "#print(a.strftime(%H %M))\n",
    "#print(str(a.time()))\n",
    "b = a.strftime('%M%S%f')\n",
    "b = int(b) / 1000.0\n",
    "print(b)\n",
    "c = a.strftime('%M분 %S초%f')\n",
    "print(c)\n",
    "d = a.strftime('%M%S')\n",
    "d = int(d)\n",
    "print(d)"
   ]
  },
  {
   "cell_type": "code",
   "execution_count": null,
   "metadata": {},
   "outputs": [],
   "source": []
  },
  {
   "cell_type": "code",
   "execution_count": null,
   "metadata": {},
   "outputs": [],
   "source": []
  }
 ],
 "metadata": {
  "kernelspec": {
   "display_name": "Python 3",
   "language": "python",
   "name": "python3"
  },
  "language_info": {
   "codemirror_mode": {
    "name": "ipython",
    "version": 3
   },
   "file_extension": ".py",
   "mimetype": "text/x-python",
   "name": "python",
   "nbconvert_exporter": "python",
   "pygments_lexer": "ipython3",
   "version": "3.6.8"
  }
 },
 "nbformat": 4,
 "nbformat_minor": 2
}
